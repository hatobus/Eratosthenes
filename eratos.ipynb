{
 "cells": [
  {
   "cell_type": "markdown",
   "metadata": {},
   "source": [
    "# エラトステネスの篩"
   ]
  },
  {
   "cell_type": "markdown",
   "metadata": {},
   "source": [
    "### エラトステネスの篩とは，素早く素数を求めるためのメソッドである．\n",
    "\n",
    "指定された整数x以下の全ての素数を発見するアルゴリズム．やることとしては\n",
    "- 探索リストに2からxまでの整数を昇順で入れる。\n",
    "- 探索リストの先頭の数を素数リストに移動し、その倍数を探索リストから篩い落とす。\n",
    "- 上記の篩い落とし操作を探索リストの先頭値がxの平方根に達するまで行う。\n",
    "- 探索リストに残った数を素数リストに移動して処理終了。"
   ]
  },
  {
   "cell_type": "code",
   "execution_count": 7,
   "metadata": {
    "collapsed": true
   },
   "outputs": [],
   "source": [
    "#coding:utf-8\n",
    "import time\n",
    "import math\n",
    "import numpy as np"
   ]
  },
  {
   "cell_type": "markdown",
   "metadata": {},
   "source": [
    "返り値がリスト内にリストがある（ネスト）ので，平坦化する関数を作っておく．"
   ]
  },
  {
   "cell_type": "code",
   "execution_count": 8,
   "metadata": {
    "collapsed": false
   },
   "outputs": [],
   "source": [
    "def flatten(L):\n",
    "    if isinstance(L, list):\n",
    "        if L == []:\n",
    "            return []\n",
    "        else:\n",
    "            return flatten(L[0]) + flatten(L[1:])\n",
    "    else:\n",
    "        return [L]"
   ]
  },
  {
   "cell_type": "markdown",
   "metadata": {},
   "source": [
    "実際に計算をしている場所．鬼のように可読性が低いのであとで直す．"
   ]
  },
  {
   "cell_type": "code",
   "execution_count": 9,
   "metadata": {
    "collapsed": true
   },
   "outputs": [],
   "source": [
    "def Eratos(data):\n",
    "\n",
    "    p_list = [] # そすー！\n",
    "    tmp = []\n",
    "    num = int(math.sqrt(len(data)))+1\n",
    "    for i in data:\n",
    "        i=data[0]\n",
    "        if i>num:\n",
    "            break\n",
    "        else:\n",
    "            p_list.append(i)\n",
    "            for j in data:\n",
    "                if j%i == 0:\n",
    "                    data.remove(j)\n",
    "        \n",
    "    p_list.append(data)\n",
    "    return p_list"
   ]
  },
  {
   "cell_type": "code",
   "execution_count": 13,
   "metadata": {
    "collapsed": false
   },
   "outputs": [
    {
     "name": "stdout",
     "output_type": "stream",
     "text": [
      "10\n",
      "prime numbers is \n",
      "[2, 3, [5, 7]]\n",
      "[2, 3, 5, 7]\n"
     ]
    }
   ],
   "source": [
    "x = int(input())\n",
    "\n",
    "r_list = list(range(2,(x+1)))\n",
    "ans = []\n",
    "ans = Eratos(r_list)\n",
    "\n",
    "print(\"prime numbers is \")\n",
    "print(sorted(flatten(ans)))"
   ]
  },
  {
   "cell_type": "code",
   "execution_count": null,
   "metadata": {
    "collapsed": true
   },
   "outputs": [],
   "source": []
  }
 ],
 "metadata": {
  "kernelspec": {
   "display_name": "Python 3",
   "language": "python",
   "name": "python3"
  },
  "language_info": {
   "codemirror_mode": {
    "name": "ipython",
    "version": 3
   },
   "file_extension": ".py",
   "mimetype": "text/x-python",
   "name": "python",
   "nbconvert_exporter": "python",
   "pygments_lexer": "ipython3",
   "version": "3.6.0"
  }
 },
 "nbformat": 4,
 "nbformat_minor": 2
}
